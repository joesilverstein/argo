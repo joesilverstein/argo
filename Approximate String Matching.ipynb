{
 "cells": [
  {
   "cell_type": "code",
   "execution_count": 1,
   "metadata": {
    "collapsed": true
   },
   "outputs": [],
   "source": [
    "text = \"nothing\"\n",
    "prefix = \"bruno\"\n",
    "suffix = \"ingenious\""
   ]
  },
  {
   "cell_type": "code",
   "execution_count": 65,
   "metadata": {
    "collapsed": true
   },
   "outputs": [],
   "source": [
    "text = \"ab\"\n",
    "prefix = \"b\"\n",
    "suffix = \"a\""
   ]
  },
  {
   "cell_type": "code",
   "execution_count": 66,
   "metadata": {
    "collapsed": false
   },
   "outputs": [
    {
     "name": "stdout",
     "output_type": "stream",
     "text": [
      "0\n",
      "0\n"
     ]
    }
   ],
   "source": [
    "len_prefix = len(prefix)\n",
    "\n",
    "# Handle ties later.\n",
    "\n",
    "# Find max prefix score\n",
    "max_prefix_pos = 0 # position to start substring to maximize prefix score\n",
    "max_prefix_score = 0\n",
    "min_len = min(len(text), len(prefix))\n",
    "for i in range(min_len): # starting point for substring in text\n",
    "    j = i\n",
    "    while j < min_len:\n",
    "        if text[i:(j + 1)] == prefix[(len_prefix - 1 - j):len_prefix]:\n",
    "            prefix_score = j - i + 1\n",
    "            if prefix_score > max_prefix_score:\n",
    "                max_prefix_score = prefix_score\n",
    "                max_prefix_pos = i\n",
    "        j += 1\n",
    "\n",
    "print(max_prefix_score)\n",
    "print(max_prefix_pos)"
   ]
  },
  {
   "cell_type": "code",
   "execution_count": 88,
   "metadata": {
    "collapsed": false
   },
   "outputs": [
    {
     "name": "stdout",
     "output_type": "stream",
     "text": [
      "0\n",
      "1\n"
     ]
    }
   ],
   "source": [
    "len_suffix = len(suffix)\n",
    "len_text = len(text)\n",
    "\n",
    "# Find max suffix score\n",
    "max_suffix_pos = len_text - 1 # position to end substring to maximize suffix score\n",
    "max_suffix_score = 0\n",
    "min_len = min(len_text, len_suffix)\n",
    "for i in range(min_len): # starting point for substring in text\n",
    "    j = i\n",
    "    while j < min_len:\n",
    "        if text[(len_text - 1 - j):len_text] == suffix[0:(j + 1)]:\n",
    "            suffix_score = j - i + 1\n",
    "            if suffix_score > max_suffix_score:\n",
    "                max_suffix_score = suffix_score\n",
    "                max_suffix_pos = len_text - i\n",
    "        j += 1\n",
    "        \n",
    "print(max_suffix_score)\n",
    "print(max_suffix_pos)"
   ]
  },
  {
   "cell_type": "code",
   "execution_count": 89,
   "metadata": {
    "collapsed": false
   },
   "outputs": [
    {
     "name": "stdout",
     "output_type": "stream",
     "text": [
      "0\n",
      "a\n"
     ]
    }
   ],
   "source": [
    "print(max_prefix_score + max_suffix_score)\n",
    "print(text[max_prefix_pos:max_suffix_pos])"
   ]
  },
  {
   "cell_type": "code",
   "execution_count": 87,
   "metadata": {
    "collapsed": false
   },
   "outputs": [
    {
     "name": "stdout",
     "output_type": "stream",
     "text": [
      "\n",
      "a\n",
      "False\n"
     ]
    }
   ],
   "source": [
    "#########################################\n",
    "i = 1; j = 0;\n",
    "print(text[(len_text - j):len_text])\n",
    "print(suffix[0:(j + 1)])\n",
    "print(text[(len_text - j):len_text] == suffix[0:(j + 1)])"
   ]
  },
  {
   "cell_type": "code",
   "execution_count": 33,
   "metadata": {
    "collapsed": false
   },
   "outputs": [
    {
     "name": "stdout",
     "output_type": "stream",
     "text": [
      "no\n",
      "no\n"
     ]
    },
    {
     "data": {
      "text/plain": [
       "True"
      ]
     },
     "execution_count": 33,
     "metadata": {},
     "output_type": "execute_result"
    }
   ],
   "source": [
    "i = 0; j = i + 1;\n",
    "print(text[i:(j + 1)])\n",
    "print(prefix[(len_prefix - 1 - j):len_prefix])\n",
    "text[i:(j + 1)] == prefix[(len_prefix - 1 - j):len_prefix]"
   ]
  },
  {
   "cell_type": "code",
   "execution_count": 37,
   "metadata": {
    "collapsed": false
   },
   "outputs": [
    {
     "data": {
      "text/plain": [
       "'not'"
      ]
     },
     "execution_count": 37,
     "metadata": {},
     "output_type": "execute_result"
    }
   ],
   "source": [
    "text[0:3]"
   ]
  },
  {
   "cell_type": "code",
   "execution_count": 25,
   "metadata": {
    "collapsed": false
   },
   "outputs": [
    {
     "data": {
      "text/plain": [
       "7"
      ]
     },
     "execution_count": 25,
     "metadata": {},
     "output_type": "execute_result"
    }
   ],
   "source": [
    "n"
   ]
  },
  {
   "cell_type": "code",
   "execution_count": 6,
   "metadata": {
    "collapsed": true
   },
   "outputs": [],
   "source": [
    "i = 0; j = i"
   ]
  },
  {
   "cell_type": "code",
   "execution_count": 7,
   "metadata": {
    "collapsed": false
   },
   "outputs": [
    {
     "data": {
      "text/plain": [
       "True"
      ]
     },
     "execution_count": 7,
     "metadata": {},
     "output_type": "execute_result"
    }
   ],
   "source": [
    "text[i:j] == prefix[(len_prefix - 1 - i):(len_prefix - 1)]"
   ]
  },
  {
   "cell_type": "code",
   "execution_count": 13,
   "metadata": {
    "collapsed": false
   },
   "outputs": [
    {
     "data": {
      "text/plain": [
       "'o'"
      ]
     },
     "execution_count": 13,
     "metadata": {},
     "output_type": "execute_result"
    }
   ],
   "source": [
    "prefix[(len_prefix - 1 - i):(len_prefix)]"
   ]
  },
  {
   "cell_type": "code",
   "execution_count": 20,
   "metadata": {
    "collapsed": false
   },
   "outputs": [
    {
     "data": {
      "text/plain": [
       "'n'"
      ]
     },
     "execution_count": 20,
     "metadata": {},
     "output_type": "execute_result"
    }
   ],
   "source": [
    "text[0:1]"
   ]
  },
  {
   "cell_type": "code",
   "execution_count": null,
   "metadata": {
    "collapsed": true
   },
   "outputs": [],
   "source": [
    "# Complete the function below.\n",
    "\n",
    "# Strategy: Find starting points that maximize prefix_score, and find ending points that maximize suffix_score.\n",
    "def  calculateScore( text,  prefix,  suffix):\n",
    "    len_prefix = len(prefix)\n",
    "\n",
    "    # Handle ties later.\n",
    "\n",
    "    # Find max prefix score\n",
    "    max_prefix_pos = 0 # position to start substring to maximize prefix score\n",
    "    max_prefix_score = 0\n",
    "    min_len = min(len(text), len(prefix))\n",
    "    for i in range(min_len): # starting point for substring in text\n",
    "        j = i\n",
    "        while j < min_len:\n",
    "            if text[i:(j + 1)] == prefix[(len_prefix - 1 - j):len_prefix]:\n",
    "                prefix_score = j - i + 1\n",
    "                if prefix_score > max_prefix_score:\n",
    "                    max_prefix_score = prefix_score\n",
    "                    max_prefix_pos = i\n",
    "            j += 1\n",
    "\n",
    "    print(max_prefix_score)\n",
    "    print(max_prefix_pos)\n",
    "    \n",
    "    len_suffix = len(suffix)\n",
    "    len_text = len(text)\n",
    "\n",
    "    # Find max suffix score\n",
    "    max_suffix_pos = len_text - 1 # position to end substring to maximize suffix score\n",
    "    max_suffix_score = 0\n",
    "    min_len = min(len_text, len_suffix)\n",
    "    for i in range(min_len): # starting point for substring in text\n",
    "        j = i\n",
    "        while j < min_len:\n",
    "            if text[(len_text - 1 - j):len_text] == suffix[0:(j + 1)]:\n",
    "                suffix_score = j - i + 1\n",
    "                if suffix_score > max_suffix_score:\n",
    "                    max_suffix_score = suffix_score\n",
    "                    max_suffix_pos = len_text - i\n",
    "            j += 1\n",
    "\n",
    "    print(max_suffix_score)\n",
    "    print(max_suffix_pos)\n",
    "    \n",
    "    print(max_prefix_score + max_suffix_score)\n",
    "    return(text[max_prefix_pos:max_suffix_pos])\n"
   ]
  },
  {
   "cell_type": "code",
   "execution_count": 171,
   "metadata": {
    "collapsed": true
   },
   "outputs": [],
   "source": [
    "# Strategy: Find starting points that maximize prefix_score, \n",
    "# and find ending points that maximize suffix_score.\n",
    "def  calculateScore( text,  prefix,  suffix):\n",
    "    len_text = len(text)\n",
    "    len_prefix = len(prefix)\n",
    "    len_suffix = len(suffix)\n",
    "\n",
    "    # Find max prefix score\n",
    "    max_prefix_pos = [0] # positions to start substring to maximize prefix score\n",
    "    max_prefix_score = 0\n",
    "    for i in range(len_text): # starting point for substring in text\n",
    "        print(i)\n",
    "        j = i\n",
    "        while j < len_text:\n",
    "            #print(\"hello\")\n",
    "            #print(text[i:(j + 1)])\n",
    "            #print(prefix[(len_prefix - 1 - j):len_prefix])\n",
    "            if text[i:(j + 1)] == prefix[(len_prefix - 1 - j):len_prefix]:\n",
    "                prefix_score = j - i + 1\n",
    "                if prefix_score == max_prefix_score:\n",
    "                    max_prefix_pos.append(i) # add additional prefix position\n",
    "                elif prefix_score > max_prefix_score:\n",
    "                    max_prefix_score = prefix_score\n",
    "                    max_prefix_pos = [i] # reset list of max_prefixes\n",
    "            j += 1\n",
    "\n",
    "    print(max_prefix_score)\n",
    "    print(max_prefix_pos)\n",
    "\n",
    "    # Find max suffix score\n",
    "    max_suffix_pos = [0] # positions to end substring to maximize suffix score\n",
    "    max_suffix_score = 0\n",
    "    for i in range(len_text): # starting point for substring in text\n",
    "        j = i\n",
    "        while j < len_text:\n",
    "            if text[(len_text - 1 - j):len_text] == suffix[0:(j + 1)]:\n",
    "                suffix_score = j - i + 1\n",
    "                if suffix_score == max_suffix_score:\n",
    "                    max_suffix_pos.append(len_text - i)\n",
    "                elif suffix_score > max_suffix_score:\n",
    "                    max_suffix_score = suffix_score\n",
    "                    max_suffix_pos = [len_text - i]\n",
    "            j += 1\n",
    "\n",
    "    print(max_suffix_score)\n",
    "    print(max_suffix_pos)\n",
    "    print(max_prefix_score + max_suffix_score)\n",
    "    \n",
    "    return(text[max_prefix_pos[0]:max_suffix_pos[0]])"
   ]
  },
  {
   "cell_type": "code",
   "execution_count": 172,
   "metadata": {
    "collapsed": false
   },
   "outputs": [
    {
     "name": "stdout",
     "output_type": "stream",
     "text": [
      "0\n",
      "1\n",
      "2\n",
      "3\n",
      "4\n",
      "5\n",
      "6\n",
      "2\n",
      "[0]\n",
      "3\n",
      "[7]\n",
      "5\n"
     ]
    },
    {
     "data": {
      "text/plain": [
       "'nothing'"
      ]
     },
     "execution_count": 172,
     "metadata": {},
     "output_type": "execute_result"
    }
   ],
   "source": [
    "calculateScore(\"nothing\", \"bruno\", \"ingenious\")"
   ]
  },
  {
   "cell_type": "code",
   "execution_count": 173,
   "metadata": {
    "collapsed": false
   },
   "outputs": [
    {
     "name": "stdout",
     "output_type": "stream",
     "text": [
      "0\n",
      "1\n",
      "1\n",
      "[1]\n",
      "0\n",
      "[0]\n",
      "1\n"
     ]
    },
    {
     "data": {
      "text/plain": [
       "''"
      ]
     },
     "execution_count": 173,
     "metadata": {},
     "output_type": "execute_result"
    }
   ],
   "source": [
    "calculateScore(\"ab\", \"b\", \"a\")"
   ]
  },
  {
   "cell_type": "code",
   "execution_count": 113,
   "metadata": {
    "collapsed": false
   },
   "outputs": [
    {
     "name": "stdout",
     "output_type": "stream",
     "text": [
      "1\n",
      "b\n",
      "b\n"
     ]
    },
    {
     "data": {
      "text/plain": [
       "True"
      ]
     },
     "execution_count": 113,
     "metadata": {},
     "output_type": "execute_result"
    }
   ],
   "source": [
    "i = 1; j = i; print(min_len)\n",
    "print(text[i:(j + 1)])\n",
    "print(prefix[(len_prefix - 1 - j):len_prefix])\n",
    "text[i:(j + 1)] == prefix[(len_prefix - 1 - j):len_prefix]"
   ]
  },
  {
   "cell_type": "code",
   "execution_count": 143,
   "metadata": {
    "collapsed": false
   },
   "outputs": [
    {
     "name": "stdout",
     "output_type": "stream",
     "text": [
      "0\n",
      "1\n"
     ]
    }
   ],
   "source": [
    "for i in range(2): # starting point for substring in text\n",
    "    print(i)"
   ]
  },
  {
   "cell_type": "code",
   "execution_count": 151,
   "metadata": {
    "collapsed": false
   },
   "outputs": [
    {
     "name": "stdout",
     "output_type": "stream",
     "text": [
      "2\n"
     ]
    }
   ],
   "source": [
    "text = \"ab\"; print(len(text))"
   ]
  },
  {
   "cell_type": "code",
   "execution_count": 153,
   "metadata": {
    "collapsed": false
   },
   "outputs": [
    {
     "name": "stdout",
     "output_type": "stream",
     "text": [
      "0\n",
      "1\n"
     ]
    }
   ],
   "source": [
    "for i in range(len(text)):\n",
    "    print(i)"
   ]
  },
  {
   "cell_type": "code",
   "execution_count": null,
   "metadata": {
    "collapsed": true
   },
   "outputs": [],
   "source": []
  }
 ],
 "metadata": {
  "anaconda-cloud": {},
  "kernelspec": {
   "display_name": "Python [conda root]",
   "language": "python",
   "name": "conda-root-py"
  },
  "language_info": {
   "codemirror_mode": {
    "name": "ipython",
    "version": 3
   },
   "file_extension": ".py",
   "mimetype": "text/x-python",
   "name": "python",
   "nbconvert_exporter": "python",
   "pygments_lexer": "ipython3",
   "version": "3.5.2"
  }
 },
 "nbformat": 4,
 "nbformat_minor": 1
}
